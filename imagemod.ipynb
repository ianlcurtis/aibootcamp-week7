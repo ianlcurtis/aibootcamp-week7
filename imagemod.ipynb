{
 "cells": [
  {
   "cell_type": "markdown",
   "metadata": {},
   "source": [
    "# Installing Required Libraries\n",
    "Instructions on installing necessary Python libraries, such as requests."
   ]
  },
  {
   "cell_type": "code",
   "execution_count": 14,
   "metadata": {},
   "outputs": [
    {
     "name": "stdout",
     "output_type": "stream",
     "text": [
      "Requirement already satisfied: azure-ai-contentsafety in c:\\users\\johealy\\.conda\\envs\\pytorch_env\\lib\\site-packages (1.0.0)\n",
      "Requirement already satisfied: isodate<1.0.0,>=0.6.1 in c:\\users\\johealy\\.conda\\envs\\pytorch_env\\lib\\site-packages (from azure-ai-contentsafety) (0.6.1)\n",
      "Requirement already satisfied: azure-core<2.0.0,>=1.28.0 in c:\\users\\johealy\\.conda\\envs\\pytorch_env\\lib\\site-packages (from azure-ai-contentsafety) (1.30.1)\n",
      "Requirement already satisfied: requests>=2.21.0 in c:\\users\\johealy\\.conda\\envs\\pytorch_env\\lib\\site-packages (from azure-core<2.0.0,>=1.28.0->azure-ai-contentsafety) (2.31.0)\n",
      "Requirement already satisfied: six>=1.11.0 in c:\\users\\johealy\\.conda\\envs\\pytorch_env\\lib\\site-packages (from azure-core<2.0.0,>=1.28.0->azure-ai-contentsafety) (1.16.0)\n",
      "Requirement already satisfied: typing-extensions>=4.6.0 in c:\\users\\johealy\\.conda\\envs\\pytorch_env\\lib\\site-packages (from azure-core<2.0.0,>=1.28.0->azure-ai-contentsafety) (4.12.2)\n",
      "Requirement already satisfied: charset-normalizer<4,>=2 in c:\\users\\johealy\\.conda\\envs\\pytorch_env\\lib\\site-packages (from requests>=2.21.0->azure-core<2.0.0,>=1.28.0->azure-ai-contentsafety) (2.0.4)\n",
      "Requirement already satisfied: idna<4,>=2.5 in c:\\users\\johealy\\.conda\\envs\\pytorch_env\\lib\\site-packages (from requests>=2.21.0->azure-core<2.0.0,>=1.28.0->azure-ai-contentsafety) (3.7)\n",
      "Requirement already satisfied: urllib3<3,>=1.21.1 in c:\\users\\johealy\\.conda\\envs\\pytorch_env\\lib\\site-packages (from requests>=2.21.0->azure-core<2.0.0,>=1.28.0->azure-ai-contentsafety) (2.1.0)\n",
      "Requirement already satisfied: certifi>=2017.4.17 in c:\\users\\johealy\\.conda\\envs\\pytorch_env\\lib\\site-packages (from requests>=2.21.0->azure-core<2.0.0,>=1.28.0->azure-ai-contentsafety) (2024.2.2)\n",
      "Note: you may need to restart the kernel to use updated packages.\n"
     ]
    }
   ],
   "source": [
    "# This section requires no Python code as it involves instructions for installing libraries, which is typically done in the terminal or command line, not within the Jupyter notebook itself. However, for reference, the command to install the required library is:\n",
    "%pip install azure-ai-contentsafety"
   ]
  },
  {
   "cell_type": "markdown",
   "metadata": {},
   "source": [
    "# Configuring API Credentials\n",
    "How to configure and securely store the API key and endpoint URL for the Azure Content Safety API."
   ]
  },
  {
   "cell_type": "code",
   "execution_count": 15,
   "metadata": {},
   "outputs": [],
   "source": [
    "# It's recommended to use environment variables for better security\n",
    "import os\n",
    "api_key=os.environ ['AZURE_CONTENT_SAFETY_KEY']\n",
    "endpoint=os.environ ['AZURE_CONTENT_SAFETY_ENDPOINT']"
   ]
  },
  {
   "cell_type": "markdown",
   "metadata": {},
   "source": [
    "# Defining the Image Moderation Function\n",
    "Code to define a function that takes an image URL as input and calls the Azure Content Safety API for moderation."
   ]
  },
  {
   "cell_type": "code",
   "execution_count": 16,
   "metadata": {},
   "outputs": [
    {
     "name": "stdout",
     "output_type": "stream",
     "text": [
      "Hate severity: 0\n",
      "SelfHarm severity: 0\n",
      "Sexual severity: 0\n",
      "Violence severity: 0\n"
     ]
    }
   ],
   "source": [
    "import os\n",
    "\n",
    "from azure.ai.contentsafety import ContentSafetyClient\n",
    "from azure.ai.contentsafety.models import AnalyzeImageOptions, ImageData, ImageCategory\n",
    "from azure.core.credentials import AzureKeyCredential\n",
    "from azure.core.exceptions import HttpResponseError\n",
    "\n",
    "def analyze_image():\n",
    "    endpoint = os.environ.get('AZURE_CONTENT_SAFETY_ENDPOINT')\n",
    "    key = os.environ.get('AZURE_CONTENT_SAFETY_KEY')\n",
    "    image_path = os.path.join(\"sample\", \"no.jpg\")\n",
    "\n",
    "    # Create an Azure AI Content Safety client\n",
    "    client = ContentSafetyClient(endpoint, AzureKeyCredential(key))\n",
    "\n",
    "\n",
    "    # Build request\n",
    "    with open(image_path, \"rb\") as file:\n",
    "        request = AnalyzeImageOptions(image=ImageData(content=file.read()))\n",
    "\n",
    "    # Analyze image\n",
    "    try:\n",
    "        response = client.analyze_image(request)\n",
    "    except HttpResponseError as e:\n",
    "        print(\"Analyze image failed.\")\n",
    "        if e.error:\n",
    "            print(f\"Error code: {e.error.code}\")\n",
    "            print(f\"Error message: {e.error.message}\")\n",
    "            raise\n",
    "        print(e)\n",
    "        raise\n",
    "\n",
    "    hate_result = next(item for item in response.categories_analysis if item.category == ImageCategory.HATE)\n",
    "    self_harm_result = next(item for item in response.categories_analysis if item.category == ImageCategory.SELF_HARM)\n",
    "    sexual_result = next(item for item in response.categories_analysis if item.category == ImageCategory.SEXUAL)\n",
    "    violence_result = next(item for item in response.categories_analysis if item.category == ImageCategory.VIOLENCE)\n",
    "\n",
    "    if hate_result:\n",
    "        print(f\"Hate severity: {hate_result.severity}\")\n",
    "    if self_harm_result:\n",
    "        print(f\"SelfHarm severity: {self_harm_result.severity}\")\n",
    "    if sexual_result:\n",
    "        print(f\"Sexual severity: {sexual_result.severity}\")\n",
    "    if violence_result:\n",
    "        print(f\"Violence severity: {violence_result.severity}\")\n",
    "\n",
    "if __name__ == \"__main__\":\n",
    "    analyze_image()"
   ]
  }
 ],
 "metadata": {
  "kernelspec": {
   "display_name": "pytorch_env",
   "language": "python",
   "name": "python3"
  },
  "language_info": {
   "codemirror_mode": {
    "name": "ipython",
    "version": 3
   },
   "file_extension": ".py",
   "mimetype": "text/x-python",
   "name": "python",
   "nbconvert_exporter": "python",
   "pygments_lexer": "ipython3",
   "version": "3.11.9"
  }
 },
 "nbformat": 4,
 "nbformat_minor": 2
}
