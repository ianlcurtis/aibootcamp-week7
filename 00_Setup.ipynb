{
 "cells": [
  {
   "cell_type": "markdown",
   "metadata": {},
   "source": [
    "# Setup\n",
    "1. Create an AOAI resource and a Content Safety resource. **GPT-4-turbo** is best as it will work for all notebooks.\n",
    "2. Add the endpoints and keys for these resources to the  `credentials.env` file."
   ]
  }
 ],
 "metadata": {
  "language_info": {
   "name": "python"
  }
 },
 "nbformat": 4,
 "nbformat_minor": 2
}
