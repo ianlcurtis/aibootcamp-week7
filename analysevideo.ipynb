{
 "cells": [
  {
   "cell_type": "code",
   "execution_count": 1,
   "metadata": {},
   "outputs": [
    {
     "name": "stdout",
     "output_type": "stream",
     "text": [
      "Collecting decord\n",
      "  Downloading decord-0.6.0-py3-none-win_amd64.whl.metadata (422 bytes)\n",
      "Requirement already satisfied: numpy>=1.14.0 in c:\\users\\johealy\\.conda\\envs\\pytorch_env\\lib\\site-packages (from decord) (1.26.4)\n",
      "Using cached decord-0.6.0-py3-none-win_amd64.whl (24.7 MB)\n",
      "Installing collected packages: decord\n",
      "Successfully installed decord-0.6.0\n",
      "Note: you may need to restart the kernel to use updated packages.\n"
     ]
    }
   ],
   "source": [
    "%pip install decord"
   ]
  },
  {
   "cell_type": "code",
   "execution_count": 2,
   "metadata": {},
   "outputs": [
    {
     "name": "stderr",
     "output_type": "stream",
     "text": [
      "Processing video:   0%|          | 0/129 [00:00<?, ?it/s]"
     ]
    },
    {
     "name": "stdout",
     "output_type": "stream",
     "text": [
      "Analyzing video at 0:00:00\n"
     ]
    },
    {
     "name": "stderr",
     "output_type": "stream",
     "text": [
      "Processing video:   1%|          | 1/129 [00:01<03:14,  1.52s/it]"
     ]
    },
    {
     "name": "stdout",
     "output_type": "stream",
     "text": [
      "Hate severity: 0\n",
      "SelfHarm severity: 0\n",
      "Sexual severity: 0\n",
      "Violence severity: 0\n",
      "Analyzing video at 0:00:01\n"
     ]
    },
    {
     "name": "stderr",
     "output_type": "stream",
     "text": [
      "Processing video:   2%|▏         | 2/129 [00:01<01:46,  1.19it/s]"
     ]
    },
    {
     "name": "stdout",
     "output_type": "stream",
     "text": [
      "Hate severity: 0\n",
      "SelfHarm severity: 0\n",
      "Sexual severity: 0\n",
      "Violence severity: 0\n",
      "Analyzing video at 0:00:02\n"
     ]
    },
    {
     "name": "stderr",
     "output_type": "stream",
     "text": [
      "Processing video:   2%|▏         | 3/129 [00:02<01:30,  1.39it/s]"
     ]
    },
    {
     "name": "stdout",
     "output_type": "stream",
     "text": [
      "Hate severity: 0\n",
      "SelfHarm severity: 0\n",
      "Sexual severity: 0\n",
      "Violence severity: 0\n",
      "Analyzing video at 0:00:03\n"
     ]
    },
    {
     "name": "stderr",
     "output_type": "stream",
     "text": [
      "Processing video:   3%|▎         | 4/129 [00:03<01:26,  1.44it/s]"
     ]
    },
    {
     "name": "stdout",
     "output_type": "stream",
     "text": [
      "Hate severity: 0\n",
      "SelfHarm severity: 0\n",
      "Sexual severity: 0\n",
      "Violence severity: 0\n",
      "Analyzing video at 0:00:04\n"
     ]
    },
    {
     "name": "stderr",
     "output_type": "stream",
     "text": [
      "Processing video:   4%|▍         | 5/129 [00:03<01:28,  1.40it/s]"
     ]
    },
    {
     "name": "stdout",
     "output_type": "stream",
     "text": [
      "Hate severity: 0\n",
      "SelfHarm severity: 0\n",
      "Sexual severity: 0\n",
      "Violence severity: 0\n",
      "Analyzing video at 0:00:05\n"
     ]
    },
    {
     "name": "stderr",
     "output_type": "stream",
     "text": [
      "Processing video:   5%|▍         | 6/129 [00:04<01:28,  1.38it/s]"
     ]
    },
    {
     "name": "stdout",
     "output_type": "stream",
     "text": [
      "Hate severity: 0\n",
      "SelfHarm severity: 0\n",
      "Sexual severity: 0\n",
      "Violence severity: 0\n",
      "Analyzing video at 0:00:06\n"
     ]
    },
    {
     "name": "stderr",
     "output_type": "stream",
     "text": [
      "Processing video:   5%|▌         | 7/129 [00:05<01:24,  1.45it/s]"
     ]
    },
    {
     "name": "stdout",
     "output_type": "stream",
     "text": [
      "Hate severity: 0\n",
      "SelfHarm severity: 0\n",
      "Sexual severity: 0\n",
      "Violence severity: 2\n",
      "Analyzing video at 0:00:07\n"
     ]
    },
    {
     "name": "stderr",
     "output_type": "stream",
     "text": [
      "Processing video:   6%|▌         | 8/129 [00:05<01:22,  1.47it/s]"
     ]
    },
    {
     "name": "stdout",
     "output_type": "stream",
     "text": [
      "Hate severity: 0\n",
      "SelfHarm severity: 0\n",
      "Sexual severity: 0\n",
      "Violence severity: 0\n",
      "Analyzing video at 0:00:08\n"
     ]
    },
    {
     "name": "stderr",
     "output_type": "stream",
     "text": [
      "Processing video:   7%|▋         | 9/129 [00:06<01:26,  1.38it/s]"
     ]
    },
    {
     "name": "stdout",
     "output_type": "stream",
     "text": [
      "Hate severity: 0\n",
      "SelfHarm severity: 0\n",
      "Sexual severity: 0\n",
      "Violence severity: 0\n",
      "Analyzing video at 0:00:09\n"
     ]
    },
    {
     "name": "stderr",
     "output_type": "stream",
     "text": [
      "Processing video:   8%|▊         | 10/129 [00:07<01:16,  1.55it/s]"
     ]
    },
    {
     "name": "stdout",
     "output_type": "stream",
     "text": [
      "Hate severity: 0\n",
      "SelfHarm severity: 0\n",
      "Sexual severity: 0\n",
      "Violence severity: 0\n",
      "Analyzing video at 0:00:10\n"
     ]
    },
    {
     "name": "stderr",
     "output_type": "stream",
     "text": [
      "Processing video:   9%|▊         | 11/129 [00:07<01:15,  1.56it/s]"
     ]
    },
    {
     "name": "stdout",
     "output_type": "stream",
     "text": [
      "Hate severity: 0\n",
      "SelfHarm severity: 0\n",
      "Sexual severity: 0\n",
      "Violence severity: 0\n",
      "Analyzing video at 0:00:11\n"
     ]
    },
    {
     "name": "stderr",
     "output_type": "stream",
     "text": [
      "Processing video:   9%|▉         | 12/129 [00:08<01:12,  1.61it/s]"
     ]
    },
    {
     "name": "stdout",
     "output_type": "stream",
     "text": [
      "Hate severity: 0\n",
      "SelfHarm severity: 0\n",
      "Sexual severity: 0\n",
      "Violence severity: 0\n",
      "Analyzing video at 0:00:12\n"
     ]
    },
    {
     "name": "stderr",
     "output_type": "stream",
     "text": [
      "Processing video:  10%|█         | 13/129 [00:09<01:19,  1.46it/s]"
     ]
    },
    {
     "name": "stdout",
     "output_type": "stream",
     "text": [
      "Hate severity: 0\n",
      "SelfHarm severity: 0\n",
      "Sexual severity: 0\n",
      "Violence severity: 0\n",
      "Analyzing video at 0:00:13\n"
     ]
    },
    {
     "name": "stderr",
     "output_type": "stream",
     "text": [
      "Processing video:  11%|█         | 14/129 [00:09<01:18,  1.47it/s]"
     ]
    },
    {
     "name": "stdout",
     "output_type": "stream",
     "text": [
      "Hate severity: 0\n",
      "SelfHarm severity: 0\n",
      "Sexual severity: 0\n",
      "Violence severity: 0\n",
      "Analyzing video at 0:00:14\n"
     ]
    },
    {
     "name": "stderr",
     "output_type": "stream",
     "text": [
      "Processing video:  12%|█▏        | 15/129 [00:10<01:15,  1.51it/s]"
     ]
    },
    {
     "name": "stdout",
     "output_type": "stream",
     "text": [
      "Hate severity: 0\n",
      "SelfHarm severity: 0\n",
      "Sexual severity: 0\n",
      "Violence severity: 0\n",
      "Analyzing video at 0:00:15\n"
     ]
    },
    {
     "name": "stderr",
     "output_type": "stream",
     "text": [
      "Processing video:  12%|█▏        | 16/129 [00:11<01:10,  1.61it/s]"
     ]
    },
    {
     "name": "stdout",
     "output_type": "stream",
     "text": [
      "Hate severity: 0\n",
      "SelfHarm severity: 0\n",
      "Sexual severity: 0\n",
      "Violence severity: 0\n",
      "Analyzing video at 0:00:16\n"
     ]
    },
    {
     "name": "stderr",
     "output_type": "stream",
     "text": [
      "Processing video:  13%|█▎        | 17/129 [00:11<01:06,  1.67it/s]"
     ]
    },
    {
     "name": "stdout",
     "output_type": "stream",
     "text": [
      "Hate severity: 0\n",
      "SelfHarm severity: 0\n",
      "Sexual severity: 0\n",
      "Violence severity: 0\n",
      "Analyzing video at 0:00:17\n"
     ]
    },
    {
     "name": "stderr",
     "output_type": "stream",
     "text": [
      "Processing video:  14%|█▍        | 18/129 [00:12<01:00,  1.82it/s]"
     ]
    },
    {
     "name": "stdout",
     "output_type": "stream",
     "text": [
      "Hate severity: 0\n",
      "SelfHarm severity: 0\n",
      "Sexual severity: 0\n",
      "Violence severity: 0\n",
      "Analyzing video at 0:00:18\n"
     ]
    },
    {
     "name": "stderr",
     "output_type": "stream",
     "text": [
      "Processing video:  15%|█▍        | 19/129 [00:12<00:58,  1.89it/s]"
     ]
    },
    {
     "name": "stdout",
     "output_type": "stream",
     "text": [
      "Hate severity: 0\n",
      "SelfHarm severity: 0\n",
      "Sexual severity: 0\n",
      "Violence severity: 0\n",
      "Analyzing video at 0:00:19\n"
     ]
    },
    {
     "name": "stderr",
     "output_type": "stream",
     "text": [
      "Processing video:  16%|█▌        | 20/129 [00:12<00:53,  2.05it/s]"
     ]
    },
    {
     "name": "stdout",
     "output_type": "stream",
     "text": [
      "Hate severity: 0\n",
      "SelfHarm severity: 0\n",
      "Sexual severity: 0\n",
      "Violence severity: 0\n",
      "Analyzing video at 0:00:20\n"
     ]
    },
    {
     "name": "stderr",
     "output_type": "stream",
     "text": [
      "Processing video:  16%|█▋        | 21/129 [00:13<00:53,  2.02it/s]"
     ]
    },
    {
     "name": "stdout",
     "output_type": "stream",
     "text": [
      "Hate severity: 0\n",
      "SelfHarm severity: 0\n",
      "Sexual severity: 0\n",
      "Violence severity: 0\n",
      "Analyzing video at 0:00:21\n"
     ]
    },
    {
     "name": "stderr",
     "output_type": "stream",
     "text": [
      "Processing video:  17%|█▋        | 22/129 [00:13<00:52,  2.02it/s]"
     ]
    },
    {
     "name": "stdout",
     "output_type": "stream",
     "text": [
      "Hate severity: 0\n",
      "SelfHarm severity: 0\n",
      "Sexual severity: 0\n",
      "Violence severity: 0\n",
      "Analyzing video at 0:00:22\n"
     ]
    },
    {
     "name": "stderr",
     "output_type": "stream",
     "text": [
      "Processing video:  18%|█▊        | 23/129 [00:14<00:55,  1.90it/s]"
     ]
    },
    {
     "name": "stdout",
     "output_type": "stream",
     "text": [
      "Hate severity: 0\n",
      "SelfHarm severity: 0\n",
      "Sexual severity: 0\n",
      "Violence severity: 0\n",
      "Analyzing video at 0:00:23\n"
     ]
    },
    {
     "name": "stderr",
     "output_type": "stream",
     "text": [
      "Processing video:  19%|█▊        | 24/129 [00:15<00:55,  1.89it/s]"
     ]
    },
    {
     "name": "stdout",
     "output_type": "stream",
     "text": [
      "Hate severity: 0\n",
      "SelfHarm severity: 0\n",
      "Sexual severity: 0\n",
      "Violence severity: 0\n",
      "Analyzing video at 0:00:24\n"
     ]
    },
    {
     "name": "stderr",
     "output_type": "stream",
     "text": [
      "Processing video:  19%|█▉        | 25/129 [00:15<00:53,  1.94it/s]"
     ]
    },
    {
     "name": "stdout",
     "output_type": "stream",
     "text": [
      "Hate severity: 0\n",
      "SelfHarm severity: 0\n",
      "Sexual severity: 0\n",
      "Violence severity: 0\n",
      "Analyzing video at 0:00:25\n"
     ]
    },
    {
     "name": "stderr",
     "output_type": "stream",
     "text": [
      "Processing video:  20%|██        | 26/129 [00:15<00:52,  1.97it/s]"
     ]
    },
    {
     "name": "stdout",
     "output_type": "stream",
     "text": [
      "Hate severity: 0\n",
      "SelfHarm severity: 0\n",
      "Sexual severity: 0\n",
      "Violence severity: 0\n",
      "Analyzing video at 0:00:26\n"
     ]
    },
    {
     "name": "stderr",
     "output_type": "stream",
     "text": [
      "Processing video:  21%|██        | 27/129 [00:16<00:54,  1.87it/s]"
     ]
    },
    {
     "name": "stdout",
     "output_type": "stream",
     "text": [
      "Hate severity: 0\n",
      "SelfHarm severity: 0\n",
      "Sexual severity: 0\n",
      "Violence severity: 0\n",
      "Analyzing video at 0:00:27\n"
     ]
    },
    {
     "name": "stderr",
     "output_type": "stream",
     "text": [
      "Processing video:  22%|██▏       | 28/129 [00:17<00:53,  1.88it/s]"
     ]
    },
    {
     "name": "stdout",
     "output_type": "stream",
     "text": [
      "Hate severity: 0\n",
      "SelfHarm severity: 0\n",
      "Sexual severity: 0\n",
      "Violence severity: 0\n",
      "Analyzing video at 0:00:28\n"
     ]
    },
    {
     "name": "stderr",
     "output_type": "stream",
     "text": [
      "Processing video:  22%|██▏       | 29/129 [00:17<00:57,  1.75it/s]"
     ]
    },
    {
     "name": "stdout",
     "output_type": "stream",
     "text": [
      "Hate severity: 0\n",
      "SelfHarm severity: 0\n",
      "Sexual severity: 0\n",
      "Violence severity: 0\n",
      "Analyzing video at 0:00:29\n"
     ]
    },
    {
     "name": "stderr",
     "output_type": "stream",
     "text": [
      "Processing video:  23%|██▎       | 30/129 [00:18<00:53,  1.87it/s]"
     ]
    },
    {
     "name": "stdout",
     "output_type": "stream",
     "text": [
      "Hate severity: 0\n",
      "SelfHarm severity: 0\n",
      "Sexual severity: 0\n",
      "Violence severity: 0\n",
      "Analyzing video at 0:00:30\n"
     ]
    },
    {
     "name": "stderr",
     "output_type": "stream",
     "text": [
      "Processing video:  24%|██▍       | 31/129 [00:18<00:56,  1.74it/s]"
     ]
    },
    {
     "name": "stdout",
     "output_type": "stream",
     "text": [
      "Hate severity: 0\n",
      "SelfHarm severity: 0\n",
      "Sexual severity: 0\n",
      "Violence severity: 0\n",
      "Analyzing video at 0:00:31\n"
     ]
    },
    {
     "name": "stderr",
     "output_type": "stream",
     "text": [
      "Processing video:  25%|██▍       | 32/129 [00:19<00:54,  1.77it/s]"
     ]
    },
    {
     "name": "stdout",
     "output_type": "stream",
     "text": [
      "Hate severity: 0\n",
      "SelfHarm severity: 0\n",
      "Sexual severity: 0\n",
      "Violence severity: 0\n",
      "Analyzing video at 0:00:32\n"
     ]
    },
    {
     "name": "stderr",
     "output_type": "stream",
     "text": [
      "Processing video:  26%|██▌       | 33/129 [00:20<00:56,  1.71it/s]"
     ]
    },
    {
     "name": "stdout",
     "output_type": "stream",
     "text": [
      "Hate severity: 0\n",
      "SelfHarm severity: 0\n",
      "Sexual severity: 0\n",
      "Violence severity: 0\n",
      "Analyzing video at 0:00:33\n"
     ]
    },
    {
     "name": "stderr",
     "output_type": "stream",
     "text": [
      "Processing video:  26%|██▋       | 34/129 [00:20<00:56,  1.68it/s]"
     ]
    },
    {
     "name": "stdout",
     "output_type": "stream",
     "text": [
      "Hate severity: 0\n",
      "SelfHarm severity: 0\n",
      "Sexual severity: 0\n",
      "Violence severity: 0\n",
      "Analyzing video at 0:00:34\n"
     ]
    },
    {
     "name": "stderr",
     "output_type": "stream",
     "text": [
      "Processing video:  27%|██▋       | 35/129 [00:21<00:54,  1.73it/s]"
     ]
    },
    {
     "name": "stdout",
     "output_type": "stream",
     "text": [
      "Hate severity: 0\n",
      "SelfHarm severity: 0\n",
      "Sexual severity: 0\n",
      "Violence severity: 0\n",
      "Analyzing video at 0:00:35\n"
     ]
    },
    {
     "name": "stderr",
     "output_type": "stream",
     "text": [
      "Processing video:  28%|██▊       | 36/129 [00:21<00:53,  1.75it/s]"
     ]
    },
    {
     "name": "stdout",
     "output_type": "stream",
     "text": [
      "Hate severity: 0\n",
      "SelfHarm severity: 0\n",
      "Sexual severity: 0\n",
      "Violence severity: 0\n",
      "Analyzing video at 0:00:36\n"
     ]
    },
    {
     "name": "stderr",
     "output_type": "stream",
     "text": [
      "Processing video:  29%|██▊       | 37/129 [00:22<00:50,  1.81it/s]"
     ]
    },
    {
     "name": "stdout",
     "output_type": "stream",
     "text": [
      "Hate severity: 0\n",
      "SelfHarm severity: 0\n",
      "Sexual severity: 0\n",
      "Violence severity: 0\n",
      "Analyzing video at 0:00:37\n"
     ]
    },
    {
     "name": "stderr",
     "output_type": "stream",
     "text": [
      "Processing video:  29%|██▉       | 38/129 [00:22<00:45,  1.99it/s]"
     ]
    },
    {
     "name": "stdout",
     "output_type": "stream",
     "text": [
      "Hate severity: 0\n",
      "SelfHarm severity: 0\n",
      "Sexual severity: 0\n",
      "Violence severity: 0\n",
      "Analyzing video at 0:00:38\n"
     ]
    },
    {
     "name": "stderr",
     "output_type": "stream",
     "text": [
      "Processing video:  30%|███       | 39/129 [00:23<00:43,  2.07it/s]"
     ]
    },
    {
     "name": "stdout",
     "output_type": "stream",
     "text": [
      "Hate severity: 0\n",
      "SelfHarm severity: 0\n",
      "Sexual severity: 0\n",
      "Violence severity: 0\n",
      "Analyzing video at 0:00:39\n"
     ]
    },
    {
     "name": "stderr",
     "output_type": "stream",
     "text": [
      "Processing video:  31%|███       | 40/129 [00:23<00:42,  2.10it/s]"
     ]
    },
    {
     "name": "stdout",
     "output_type": "stream",
     "text": [
      "Hate severity: 0\n",
      "SelfHarm severity: 0\n",
      "Sexual severity: 0\n",
      "Violence severity: 0\n",
      "Analyzing video at 0:00:40\n"
     ]
    },
    {
     "name": "stderr",
     "output_type": "stream",
     "text": [
      "Processing video:  32%|███▏      | 41/129 [00:24<00:42,  2.07it/s]"
     ]
    },
    {
     "name": "stdout",
     "output_type": "stream",
     "text": [
      "Hate severity: 0\n",
      "SelfHarm severity: 0\n",
      "Sexual severity: 0\n",
      "Violence severity: 0\n",
      "Analyzing video at 0:00:41\n"
     ]
    },
    {
     "name": "stderr",
     "output_type": "stream",
     "text": [
      "Processing video:  33%|███▎      | 42/129 [00:24<00:45,  1.91it/s]"
     ]
    },
    {
     "name": "stdout",
     "output_type": "stream",
     "text": [
      "Hate severity: 0\n",
      "SelfHarm severity: 0\n",
      "Sexual severity: 0\n",
      "Violence severity: 0\n",
      "Analyzing video at 0:00:42\n"
     ]
    },
    {
     "name": "stderr",
     "output_type": "stream",
     "text": [
      "Processing video:  33%|███▎      | 43/129 [00:25<00:49,  1.74it/s]"
     ]
    },
    {
     "name": "stdout",
     "output_type": "stream",
     "text": [
      "Hate severity: 0\n",
      "SelfHarm severity: 0\n",
      "Sexual severity: 0\n",
      "Violence severity: 0\n",
      "Analyzing video at 0:00:43\n"
     ]
    },
    {
     "name": "stderr",
     "output_type": "stream",
     "text": [
      "Processing video:  34%|███▍      | 44/129 [00:26<00:50,  1.67it/s]"
     ]
    },
    {
     "name": "stdout",
     "output_type": "stream",
     "text": [
      "Hate severity: 0\n",
      "SelfHarm severity: 0\n",
      "Sexual severity: 0\n",
      "Violence severity: 0\n",
      "Analyzing video at 0:00:44\n"
     ]
    },
    {
     "name": "stderr",
     "output_type": "stream",
     "text": [
      "Processing video:  35%|███▍      | 45/129 [00:26<00:46,  1.81it/s]"
     ]
    },
    {
     "name": "stdout",
     "output_type": "stream",
     "text": [
      "Hate severity: 0\n",
      "SelfHarm severity: 0\n",
      "Sexual severity: 0\n",
      "Violence severity: 0\n",
      "Analyzing video at 0:00:45\n"
     ]
    },
    {
     "name": "stderr",
     "output_type": "stream",
     "text": [
      "Processing video:  36%|███▌      | 46/129 [00:26<00:44,  1.87it/s]"
     ]
    },
    {
     "name": "stdout",
     "output_type": "stream",
     "text": [
      "Hate severity: 0\n",
      "SelfHarm severity: 0\n",
      "Sexual severity: 0\n",
      "Violence severity: 0\n",
      "Analyzing video at 0:00:46\n"
     ]
    },
    {
     "name": "stderr",
     "output_type": "stream",
     "text": [
      "Processing video:  36%|███▋      | 47/129 [00:27<00:43,  1.88it/s]"
     ]
    },
    {
     "name": "stdout",
     "output_type": "stream",
     "text": [
      "Hate severity: 0\n",
      "SelfHarm severity: 0\n",
      "Sexual severity: 0\n",
      "Violence severity: 0\n",
      "Analyzing video at 0:00:47\n"
     ]
    },
    {
     "name": "stderr",
     "output_type": "stream",
     "text": [
      "Processing video:  37%|███▋      | 48/129 [00:28<00:45,  1.80it/s]"
     ]
    },
    {
     "name": "stdout",
     "output_type": "stream",
     "text": [
      "Hate severity: 0\n",
      "SelfHarm severity: 0\n",
      "Sexual severity: 0\n",
      "Violence severity: 0\n",
      "Analyzing video at 0:00:48\n"
     ]
    },
    {
     "name": "stderr",
     "output_type": "stream",
     "text": [
      "Processing video:  38%|███▊      | 49/129 [00:28<00:42,  1.89it/s]"
     ]
    },
    {
     "name": "stdout",
     "output_type": "stream",
     "text": [
      "Hate severity: 0\n",
      "SelfHarm severity: 0\n",
      "Sexual severity: 0\n",
      "Violence severity: 0\n",
      "Analyzing video at 0:00:49\n"
     ]
    },
    {
     "name": "stderr",
     "output_type": "stream",
     "text": [
      "Processing video:  39%|███▉      | 50/129 [00:29<00:43,  1.82it/s]"
     ]
    },
    {
     "name": "stdout",
     "output_type": "stream",
     "text": [
      "Hate severity: 0\n",
      "SelfHarm severity: 0\n",
      "Sexual severity: 0\n",
      "Violence severity: 0\n",
      "Analyzing video at 0:00:50\n"
     ]
    },
    {
     "name": "stderr",
     "output_type": "stream",
     "text": [
      "Processing video:  40%|███▉      | 51/129 [00:29<00:40,  1.95it/s]"
     ]
    },
    {
     "name": "stdout",
     "output_type": "stream",
     "text": [
      "Hate severity: 0\n",
      "SelfHarm severity: 0\n",
      "Sexual severity: 0\n",
      "Violence severity: 0\n",
      "Analyzing video at 0:00:51\n"
     ]
    },
    {
     "name": "stderr",
     "output_type": "stream",
     "text": [
      "Processing video:  40%|████      | 52/129 [00:30<00:38,  2.02it/s]"
     ]
    },
    {
     "name": "stdout",
     "output_type": "stream",
     "text": [
      "Hate severity: 0\n",
      "SelfHarm severity: 0\n",
      "Sexual severity: 0\n",
      "Violence severity: 0\n",
      "Analyzing video at 0:00:52\n"
     ]
    },
    {
     "name": "stderr",
     "output_type": "stream",
     "text": [
      "Processing video:  41%|████      | 53/129 [00:30<00:38,  1.96it/s]"
     ]
    },
    {
     "name": "stdout",
     "output_type": "stream",
     "text": [
      "Hate severity: 0\n",
      "SelfHarm severity: 0\n",
      "Sexual severity: 0\n",
      "Violence severity: 0\n",
      "Analyzing video at 0:00:53\n"
     ]
    },
    {
     "name": "stderr",
     "output_type": "stream",
     "text": [
      "Processing video:  42%|████▏     | 54/129 [00:31<00:41,  1.80it/s]"
     ]
    },
    {
     "name": "stdout",
     "output_type": "stream",
     "text": [
      "Hate severity: 0\n",
      "SelfHarm severity: 0\n",
      "Sexual severity: 0\n",
      "Violence severity: 0\n",
      "Analyzing video at 0:00:54\n"
     ]
    },
    {
     "name": "stderr",
     "output_type": "stream",
     "text": [
      "Processing video:  43%|████▎     | 55/129 [00:31<00:42,  1.75it/s]"
     ]
    },
    {
     "name": "stdout",
     "output_type": "stream",
     "text": [
      "Hate severity: 0\n",
      "SelfHarm severity: 0\n",
      "Sexual severity: 0\n",
      "Violence severity: 0\n",
      "Analyzing video at 0:00:55\n"
     ]
    },
    {
     "name": "stderr",
     "output_type": "stream",
     "text": [
      "Processing video:  43%|████▎     | 56/129 [00:32<00:37,  1.94it/s]"
     ]
    },
    {
     "name": "stdout",
     "output_type": "stream",
     "text": [
      "Hate severity: 0\n",
      "SelfHarm severity: 0\n",
      "Sexual severity: 0\n",
      "Violence severity: 0\n",
      "Analyzing video at 0:00:56\n"
     ]
    },
    {
     "name": "stderr",
     "output_type": "stream",
     "text": [
      "Processing video:  44%|████▍     | 57/129 [00:32<00:36,  1.95it/s]"
     ]
    },
    {
     "name": "stdout",
     "output_type": "stream",
     "text": [
      "Hate severity: 0\n",
      "SelfHarm severity: 0\n",
      "Sexual severity: 0\n",
      "Violence severity: 0\n",
      "Analyzing video at 0:00:57\n"
     ]
    },
    {
     "name": "stderr",
     "output_type": "stream",
     "text": [
      "Processing video:  45%|████▍     | 58/129 [00:33<00:38,  1.85it/s]"
     ]
    },
    {
     "name": "stdout",
     "output_type": "stream",
     "text": [
      "Hate severity: 0\n",
      "SelfHarm severity: 0\n",
      "Sexual severity: 0\n",
      "Violence severity: 0\n",
      "Analyzing video at 0:00:58\n"
     ]
    },
    {
     "name": "stderr",
     "output_type": "stream",
     "text": [
      "Processing video:  46%|████▌     | 59/129 [00:33<00:37,  1.88it/s]"
     ]
    },
    {
     "name": "stdout",
     "output_type": "stream",
     "text": [
      "Hate severity: 0\n",
      "SelfHarm severity: 0\n",
      "Sexual severity: 0\n",
      "Violence severity: 0\n",
      "Analyzing video at 0:00:59\n"
     ]
    },
    {
     "name": "stderr",
     "output_type": "stream",
     "text": [
      "Processing video:  47%|████▋     | 60/129 [00:34<00:43,  1.59it/s]"
     ]
    },
    {
     "name": "stdout",
     "output_type": "stream",
     "text": [
      "Hate severity: 0\n",
      "SelfHarm severity: 0\n",
      "Sexual severity: 0\n",
      "Violence severity: 0\n",
      "Analyzing video at 0:01:00\n"
     ]
    },
    {
     "name": "stderr",
     "output_type": "stream",
     "text": [
      "Processing video:  47%|████▋     | 61/129 [00:35<00:36,  1.84it/s]"
     ]
    },
    {
     "name": "stdout",
     "output_type": "stream",
     "text": [
      "Hate severity: 0\n",
      "SelfHarm severity: 0\n",
      "Sexual severity: 0\n",
      "Violence severity: 0\n",
      "Analyzing video at 0:01:01\n"
     ]
    },
    {
     "name": "stderr",
     "output_type": "stream",
     "text": [
      "Processing video:  48%|████▊     | 62/129 [00:35<00:35,  1.89it/s]"
     ]
    },
    {
     "name": "stdout",
     "output_type": "stream",
     "text": [
      "Hate severity: 0\n",
      "SelfHarm severity: 0\n",
      "Sexual severity: 0\n",
      "Violence severity: 0\n",
      "Analyzing video at 0:01:02\n"
     ]
    },
    {
     "name": "stderr",
     "output_type": "stream",
     "text": [
      "Processing video:  49%|████▉     | 63/129 [00:35<00:32,  2.05it/s]"
     ]
    },
    {
     "name": "stdout",
     "output_type": "stream",
     "text": [
      "Hate severity: 0\n",
      "SelfHarm severity: 0\n",
      "Sexual severity: 0\n",
      "Violence severity: 0\n",
      "Analyzing video at 0:01:03\n"
     ]
    },
    {
     "name": "stderr",
     "output_type": "stream",
     "text": [
      "Processing video:  50%|████▉     | 64/129 [00:36<00:38,  1.69it/s]"
     ]
    },
    {
     "name": "stdout",
     "output_type": "stream",
     "text": [
      "Hate severity: 0\n",
      "SelfHarm severity: 0\n",
      "Sexual severity: 0\n",
      "Violence severity: 0\n",
      "Analyzing video at 0:01:04\n"
     ]
    },
    {
     "name": "stderr",
     "output_type": "stream",
     "text": [
      "Processing video:  50%|█████     | 65/129 [00:37<00:34,  1.86it/s]"
     ]
    },
    {
     "name": "stdout",
     "output_type": "stream",
     "text": [
      "Hate severity: 0\n",
      "SelfHarm severity: 0\n",
      "Sexual severity: 0\n",
      "Violence severity: 0\n",
      "Analyzing video at 0:01:05\n"
     ]
    },
    {
     "name": "stderr",
     "output_type": "stream",
     "text": [
      "Processing video:  51%|█████     | 66/129 [00:37<00:32,  1.95it/s]"
     ]
    },
    {
     "name": "stdout",
     "output_type": "stream",
     "text": [
      "Hate severity: 0\n",
      "SelfHarm severity: 0\n",
      "Sexual severity: 0\n",
      "Violence severity: 0\n",
      "Analyzing video at 0:01:06\n"
     ]
    },
    {
     "name": "stderr",
     "output_type": "stream",
     "text": [
      "Processing video:  52%|█████▏    | 67/129 [00:38<00:31,  1.96it/s]"
     ]
    },
    {
     "name": "stdout",
     "output_type": "stream",
     "text": [
      "Hate severity: 0\n",
      "SelfHarm severity: 0\n",
      "Sexual severity: 0\n",
      "Violence severity: 0\n",
      "Analyzing video at 0:01:07\n"
     ]
    },
    {
     "name": "stderr",
     "output_type": "stream",
     "text": [
      "Processing video:  53%|█████▎    | 68/129 [00:38<00:30,  1.97it/s]"
     ]
    },
    {
     "name": "stdout",
     "output_type": "stream",
     "text": [
      "Hate severity: 0\n",
      "SelfHarm severity: 0\n",
      "Sexual severity: 0\n",
      "Violence severity: 0\n",
      "Analyzing video at 0:01:08\n"
     ]
    },
    {
     "name": "stderr",
     "output_type": "stream",
     "text": [
      "Processing video:  53%|█████▎    | 69/129 [00:39<00:28,  2.09it/s]"
     ]
    },
    {
     "name": "stdout",
     "output_type": "stream",
     "text": [
      "Hate severity: 0\n",
      "SelfHarm severity: 0\n",
      "Sexual severity: 0\n",
      "Violence severity: 0\n",
      "Analyzing video at 0:01:09\n"
     ]
    },
    {
     "name": "stderr",
     "output_type": "stream",
     "text": [
      "Processing video:  54%|█████▍    | 70/129 [00:39<00:30,  1.95it/s]"
     ]
    },
    {
     "name": "stdout",
     "output_type": "stream",
     "text": [
      "Hate severity: 0\n",
      "SelfHarm severity: 0\n",
      "Sexual severity: 0\n",
      "Violence severity: 0\n",
      "Analyzing video at 0:01:10\n"
     ]
    },
    {
     "name": "stderr",
     "output_type": "stream",
     "text": [
      "Processing video:  55%|█████▌    | 71/129 [00:40<00:28,  2.06it/s]"
     ]
    },
    {
     "name": "stdout",
     "output_type": "stream",
     "text": [
      "Hate severity: 0\n",
      "SelfHarm severity: 0\n",
      "Sexual severity: 0\n",
      "Violence severity: 0\n",
      "Analyzing video at 0:01:11\n"
     ]
    },
    {
     "name": "stderr",
     "output_type": "stream",
     "text": [
      "Processing video:  56%|█████▌    | 72/129 [00:40<00:26,  2.17it/s]"
     ]
    },
    {
     "name": "stdout",
     "output_type": "stream",
     "text": [
      "Hate severity: 0\n",
      "SelfHarm severity: 0\n",
      "Sexual severity: 0\n",
      "Violence severity: 0\n",
      "Analyzing video at 0:01:12\n"
     ]
    },
    {
     "name": "stderr",
     "output_type": "stream",
     "text": [
      "Processing video:  57%|█████▋    | 73/129 [00:40<00:25,  2.21it/s]"
     ]
    },
    {
     "name": "stdout",
     "output_type": "stream",
     "text": [
      "Hate severity: 0\n",
      "SelfHarm severity: 0\n",
      "Sexual severity: 0\n",
      "Violence severity: 0\n",
      "Analyzing video at 0:01:13\n"
     ]
    },
    {
     "name": "stderr",
     "output_type": "stream",
     "text": [
      "Processing video:  57%|█████▋    | 74/129 [00:41<00:24,  2.23it/s]"
     ]
    },
    {
     "name": "stdout",
     "output_type": "stream",
     "text": [
      "Hate severity: 0\n",
      "SelfHarm severity: 0\n",
      "Sexual severity: 0\n",
      "Violence severity: 0\n",
      "Analyzing video at 0:01:14\n"
     ]
    },
    {
     "name": "stderr",
     "output_type": "stream",
     "text": [
      "Processing video:  58%|█████▊    | 75/129 [00:42<00:30,  1.80it/s]"
     ]
    },
    {
     "name": "stdout",
     "output_type": "stream",
     "text": [
      "Hate severity: 0\n",
      "SelfHarm severity: 0\n",
      "Sexual severity: 0\n",
      "Violence severity: 0\n",
      "Analyzing video at 0:01:15\n"
     ]
    },
    {
     "name": "stderr",
     "output_type": "stream",
     "text": [
      "Processing video:  59%|█████▉    | 76/129 [00:42<00:27,  1.93it/s]"
     ]
    },
    {
     "name": "stdout",
     "output_type": "stream",
     "text": [
      "Hate severity: 0\n",
      "SelfHarm severity: 0\n",
      "Sexual severity: 0\n",
      "Violence severity: 0\n",
      "Analyzing video at 0:01:16\n"
     ]
    },
    {
     "name": "stderr",
     "output_type": "stream",
     "text": [
      "Processing video:  60%|█████▉    | 77/129 [00:43<00:29,  1.78it/s]"
     ]
    },
    {
     "name": "stdout",
     "output_type": "stream",
     "text": [
      "Hate severity: 0\n",
      "SelfHarm severity: 0\n",
      "Sexual severity: 0\n",
      "Violence severity: 0\n",
      "Analyzing video at 0:01:17\n"
     ]
    },
    {
     "name": "stderr",
     "output_type": "stream",
     "text": [
      "Processing video:  60%|██████    | 78/129 [00:43<00:26,  1.95it/s]"
     ]
    },
    {
     "name": "stdout",
     "output_type": "stream",
     "text": [
      "Hate severity: 0\n",
      "SelfHarm severity: 0\n",
      "Sexual severity: 0\n",
      "Violence severity: 0\n",
      "Analyzing video at 0:01:18\n"
     ]
    },
    {
     "name": "stderr",
     "output_type": "stream",
     "text": [
      "Processing video:  61%|██████    | 79/129 [00:44<00:25,  1.93it/s]"
     ]
    },
    {
     "name": "stdout",
     "output_type": "stream",
     "text": [
      "Hate severity: 0\n",
      "SelfHarm severity: 0\n",
      "Sexual severity: 0\n",
      "Violence severity: 0\n",
      "Analyzing video at 0:01:19\n"
     ]
    },
    {
     "name": "stderr",
     "output_type": "stream",
     "text": [
      "Processing video:  62%|██████▏   | 80/129 [00:44<00:26,  1.84it/s]"
     ]
    },
    {
     "name": "stdout",
     "output_type": "stream",
     "text": [
      "Hate severity: 0\n",
      "SelfHarm severity: 0\n",
      "Sexual severity: 0\n",
      "Violence severity: 0\n",
      "Analyzing video at 0:01:20\n"
     ]
    },
    {
     "name": "stderr",
     "output_type": "stream",
     "text": [
      "Processing video:  63%|██████▎   | 81/129 [00:45<00:25,  1.91it/s]"
     ]
    },
    {
     "name": "stdout",
     "output_type": "stream",
     "text": [
      "Hate severity: 0\n",
      "SelfHarm severity: 0\n",
      "Sexual severity: 0\n",
      "Violence severity: 0\n",
      "Analyzing video at 0:01:21\n"
     ]
    },
    {
     "name": "stderr",
     "output_type": "stream",
     "text": [
      "Processing video:  64%|██████▎   | 82/129 [00:45<00:24,  1.89it/s]"
     ]
    },
    {
     "name": "stdout",
     "output_type": "stream",
     "text": [
      "Hate severity: 0\n",
      "SelfHarm severity: 0\n",
      "Sexual severity: 0\n",
      "Violence severity: 0\n",
      "Analyzing video at 0:01:22\n"
     ]
    },
    {
     "name": "stderr",
     "output_type": "stream",
     "text": [
      "Processing video:  64%|██████▍   | 83/129 [00:46<00:24,  1.85it/s]"
     ]
    },
    {
     "name": "stdout",
     "output_type": "stream",
     "text": [
      "Hate severity: 0\n",
      "SelfHarm severity: 0\n",
      "Sexual severity: 0\n",
      "Violence severity: 0\n",
      "Analyzing video at 0:01:23\n"
     ]
    },
    {
     "name": "stderr",
     "output_type": "stream",
     "text": [
      "Processing video:  65%|██████▌   | 84/129 [00:47<00:26,  1.70it/s]"
     ]
    },
    {
     "name": "stdout",
     "output_type": "stream",
     "text": [
      "Hate severity: 0\n",
      "SelfHarm severity: 0\n",
      "Sexual severity: 0\n",
      "Violence severity: 0\n",
      "Analyzing video at 0:01:24\n"
     ]
    },
    {
     "name": "stderr",
     "output_type": "stream",
     "text": [
      "Processing video:  66%|██████▌   | 85/129 [00:48<00:31,  1.40it/s]"
     ]
    },
    {
     "name": "stdout",
     "output_type": "stream",
     "text": [
      "Hate severity: 0\n",
      "SelfHarm severity: 0\n",
      "Sexual severity: 0\n",
      "Violence severity: 0\n",
      "Analyzing video at 0:01:25\n"
     ]
    },
    {
     "name": "stderr",
     "output_type": "stream",
     "text": [
      "Processing video:  67%|██████▋   | 86/129 [00:48<00:27,  1.59it/s]"
     ]
    },
    {
     "name": "stdout",
     "output_type": "stream",
     "text": [
      "Hate severity: 0\n",
      "SelfHarm severity: 0\n",
      "Sexual severity: 0\n",
      "Violence severity: 0\n",
      "Analyzing video at 0:01:26\n"
     ]
    },
    {
     "name": "stderr",
     "output_type": "stream",
     "text": [
      "Processing video:  67%|██████▋   | 87/129 [00:49<00:28,  1.49it/s]"
     ]
    },
    {
     "name": "stdout",
     "output_type": "stream",
     "text": [
      "Hate severity: 0\n",
      "SelfHarm severity: 0\n",
      "Sexual severity: 0\n",
      "Violence severity: 0\n",
      "Analyzing video at 0:01:27\n"
     ]
    },
    {
     "name": "stderr",
     "output_type": "stream",
     "text": [
      "Processing video:  68%|██████▊   | 88/129 [00:50<00:27,  1.47it/s]"
     ]
    },
    {
     "name": "stdout",
     "output_type": "stream",
     "text": [
      "Hate severity: 0\n",
      "SelfHarm severity: 0\n",
      "Sexual severity: 0\n",
      "Violence severity: 0\n",
      "Analyzing video at 0:01:28\n"
     ]
    },
    {
     "name": "stderr",
     "output_type": "stream",
     "text": [
      "Processing video:  69%|██████▉   | 89/129 [00:50<00:25,  1.59it/s]"
     ]
    },
    {
     "name": "stdout",
     "output_type": "stream",
     "text": [
      "Hate severity: 0\n",
      "SelfHarm severity: 0\n",
      "Sexual severity: 0\n",
      "Violence severity: 0\n",
      "Analyzing video at 0:01:29\n"
     ]
    },
    {
     "name": "stderr",
     "output_type": "stream",
     "text": [
      "Processing video:  70%|██████▉   | 90/129 [00:51<00:23,  1.63it/s]"
     ]
    },
    {
     "name": "stdout",
     "output_type": "stream",
     "text": [
      "Hate severity: 0\n",
      "SelfHarm severity: 0\n",
      "Sexual severity: 0\n",
      "Violence severity: 0\n",
      "Analyzing video at 0:01:30\n"
     ]
    },
    {
     "name": "stderr",
     "output_type": "stream",
     "text": [
      "Processing video:  71%|███████   | 91/129 [00:51<00:22,  1.71it/s]"
     ]
    },
    {
     "name": "stdout",
     "output_type": "stream",
     "text": [
      "Hate severity: 0\n",
      "SelfHarm severity: 0\n",
      "Sexual severity: 0\n",
      "Violence severity: 0\n",
      "Analyzing video at 0:01:31\n"
     ]
    },
    {
     "name": "stderr",
     "output_type": "stream",
     "text": [
      "Processing video:  71%|███████▏  | 92/129 [00:52<00:22,  1.65it/s]"
     ]
    },
    {
     "name": "stdout",
     "output_type": "stream",
     "text": [
      "Hate severity: 0\n",
      "SelfHarm severity: 0\n",
      "Sexual severity: 0\n",
      "Violence severity: 0\n",
      "Analyzing video at 0:01:32\n"
     ]
    },
    {
     "name": "stderr",
     "output_type": "stream",
     "text": [
      "Processing video:  72%|███████▏  | 93/129 [00:52<00:21,  1.68it/s]"
     ]
    },
    {
     "name": "stdout",
     "output_type": "stream",
     "text": [
      "Hate severity: 0\n",
      "SelfHarm severity: 0\n",
      "Sexual severity: 0\n",
      "Violence severity: 0\n",
      "Analyzing video at 0:01:33\n"
     ]
    },
    {
     "name": "stderr",
     "output_type": "stream",
     "text": [
      "Processing video:  73%|███████▎  | 94/129 [00:53<00:20,  1.72it/s]"
     ]
    },
    {
     "name": "stdout",
     "output_type": "stream",
     "text": [
      "Hate severity: 0\n",
      "SelfHarm severity: 0\n",
      "Sexual severity: 0\n",
      "Violence severity: 0\n",
      "Analyzing video at 0:01:34\n"
     ]
    },
    {
     "name": "stderr",
     "output_type": "stream",
     "text": [
      "Processing video:  74%|███████▎  | 95/129 [00:54<00:20,  1.68it/s]"
     ]
    },
    {
     "name": "stdout",
     "output_type": "stream",
     "text": [
      "Hate severity: 0\n",
      "SelfHarm severity: 0\n",
      "Sexual severity: 0\n",
      "Violence severity: 0\n",
      "Analyzing video at 0:01:35\n"
     ]
    },
    {
     "name": "stderr",
     "output_type": "stream",
     "text": [
      "Processing video:  74%|███████▍  | 96/129 [00:54<00:21,  1.54it/s]"
     ]
    },
    {
     "name": "stdout",
     "output_type": "stream",
     "text": [
      "Hate severity: 0\n",
      "SelfHarm severity: 0\n",
      "Sexual severity: 0\n",
      "Violence severity: 0\n",
      "Analyzing video at 0:01:36\n"
     ]
    },
    {
     "name": "stderr",
     "output_type": "stream",
     "text": [
      "Processing video:  75%|███████▌  | 97/129 [00:55<00:20,  1.57it/s]"
     ]
    },
    {
     "name": "stdout",
     "output_type": "stream",
     "text": [
      "Hate severity: 0\n",
      "SelfHarm severity: 0\n",
      "Sexual severity: 0\n",
      "Violence severity: 0\n",
      "Analyzing video at 0:01:37\n"
     ]
    },
    {
     "name": "stderr",
     "output_type": "stream",
     "text": [
      "Processing video:  76%|███████▌  | 98/129 [00:55<00:18,  1.70it/s]"
     ]
    },
    {
     "name": "stdout",
     "output_type": "stream",
     "text": [
      "Hate severity: 0\n",
      "SelfHarm severity: 0\n",
      "Sexual severity: 0\n",
      "Violence severity: 0\n",
      "Analyzing video at 0:01:38\n"
     ]
    },
    {
     "name": "stderr",
     "output_type": "stream",
     "text": [
      "Processing video:  77%|███████▋  | 99/129 [00:56<00:18,  1.66it/s]"
     ]
    },
    {
     "name": "stdout",
     "output_type": "stream",
     "text": [
      "Hate severity: 0\n",
      "SelfHarm severity: 0\n",
      "Sexual severity: 0\n",
      "Violence severity: 0\n",
      "Analyzing video at 0:01:39\n"
     ]
    },
    {
     "name": "stderr",
     "output_type": "stream",
     "text": [
      "Processing video:  78%|███████▊  | 100/129 [00:57<00:18,  1.59it/s]"
     ]
    },
    {
     "name": "stdout",
     "output_type": "stream",
     "text": [
      "Hate severity: 0\n",
      "SelfHarm severity: 0\n",
      "Sexual severity: 0\n",
      "Violence severity: 0\n",
      "Analyzing video at 0:01:40\n"
     ]
    },
    {
     "name": "stderr",
     "output_type": "stream",
     "text": [
      "Processing video:  78%|███████▊  | 101/129 [00:57<00:17,  1.62it/s]"
     ]
    },
    {
     "name": "stdout",
     "output_type": "stream",
     "text": [
      "Hate severity: 0\n",
      "SelfHarm severity: 0\n",
      "Sexual severity: 0\n",
      "Violence severity: 0\n",
      "Analyzing video at 0:01:41\n"
     ]
    },
    {
     "name": "stderr",
     "output_type": "stream",
     "text": [
      "Processing video:  79%|███████▉  | 102/129 [00:58<00:15,  1.72it/s]"
     ]
    },
    {
     "name": "stdout",
     "output_type": "stream",
     "text": [
      "Hate severity: 0\n",
      "SelfHarm severity: 0\n",
      "Sexual severity: 0\n",
      "Violence severity: 0\n",
      "Analyzing video at 0:01:42\n"
     ]
    },
    {
     "name": "stderr",
     "output_type": "stream",
     "text": [
      "Processing video:  80%|███████▉  | 103/129 [00:58<00:14,  1.79it/s]"
     ]
    },
    {
     "name": "stdout",
     "output_type": "stream",
     "text": [
      "Hate severity: 0\n",
      "SelfHarm severity: 0\n",
      "Sexual severity: 0\n",
      "Violence severity: 0\n",
      "Analyzing video at 0:01:43\n"
     ]
    },
    {
     "name": "stderr",
     "output_type": "stream",
     "text": [
      "Processing video:  81%|████████  | 104/129 [00:59<00:13,  1.81it/s]"
     ]
    },
    {
     "name": "stdout",
     "output_type": "stream",
     "text": [
      "Hate severity: 0\n",
      "SelfHarm severity: 0\n",
      "Sexual severity: 0\n",
      "Violence severity: 0\n",
      "Analyzing video at 0:01:44\n"
     ]
    },
    {
     "name": "stderr",
     "output_type": "stream",
     "text": [
      "Processing video:  81%|████████▏ | 105/129 [01:00<00:14,  1.68it/s]"
     ]
    },
    {
     "name": "stdout",
     "output_type": "stream",
     "text": [
      "Hate severity: 0\n",
      "SelfHarm severity: 0\n",
      "Sexual severity: 0\n",
      "Violence severity: 0\n",
      "Analyzing video at 0:01:45\n"
     ]
    },
    {
     "name": "stderr",
     "output_type": "stream",
     "text": [
      "Processing video:  82%|████████▏ | 106/129 [01:00<00:14,  1.53it/s]"
     ]
    },
    {
     "name": "stdout",
     "output_type": "stream",
     "text": [
      "Hate severity: 0\n",
      "SelfHarm severity: 0\n",
      "Sexual severity: 0\n",
      "Violence severity: 0\n",
      "Analyzing video at 0:01:46\n"
     ]
    },
    {
     "name": "stderr",
     "output_type": "stream",
     "text": [
      "Processing video:  83%|████████▎ | 107/129 [01:01<00:13,  1.59it/s]"
     ]
    },
    {
     "name": "stdout",
     "output_type": "stream",
     "text": [
      "Hate severity: 0\n",
      "SelfHarm severity: 0\n",
      "Sexual severity: 0\n",
      "Violence severity: 0\n",
      "Analyzing video at 0:01:47\n"
     ]
    },
    {
     "name": "stderr",
     "output_type": "stream",
     "text": [
      "Processing video:  84%|████████▎ | 108/129 [01:01<00:12,  1.68it/s]"
     ]
    },
    {
     "name": "stdout",
     "output_type": "stream",
     "text": [
      "Hate severity: 0\n",
      "SelfHarm severity: 0\n",
      "Sexual severity: 0\n",
      "Violence severity: 0\n",
      "Analyzing video at 0:01:48\n"
     ]
    },
    {
     "name": "stderr",
     "output_type": "stream",
     "text": [
      "Processing video:  84%|████████▍ | 109/129 [01:02<00:11,  1.77it/s]"
     ]
    },
    {
     "name": "stdout",
     "output_type": "stream",
     "text": [
      "Hate severity: 0\n",
      "SelfHarm severity: 0\n",
      "Sexual severity: 0\n",
      "Violence severity: 0\n",
      "Analyzing video at 0:01:49\n"
     ]
    },
    {
     "name": "stderr",
     "output_type": "stream",
     "text": [
      "Processing video:  85%|████████▌ | 110/129 [01:03<00:12,  1.56it/s]"
     ]
    },
    {
     "name": "stdout",
     "output_type": "stream",
     "text": [
      "Hate severity: 0\n",
      "SelfHarm severity: 0\n",
      "Sexual severity: 0\n",
      "Violence severity: 0\n",
      "Analyzing video at 0:01:50\n"
     ]
    },
    {
     "name": "stderr",
     "output_type": "stream",
     "text": [
      "Processing video:  86%|████████▌ | 111/129 [01:03<00:10,  1.68it/s]"
     ]
    },
    {
     "name": "stdout",
     "output_type": "stream",
     "text": [
      "Hate severity: 0\n",
      "SelfHarm severity: 0\n",
      "Sexual severity: 0\n",
      "Violence severity: 0\n",
      "Analyzing video at 0:01:51\n"
     ]
    },
    {
     "name": "stderr",
     "output_type": "stream",
     "text": [
      "Processing video:  87%|████████▋ | 112/129 [01:04<00:10,  1.61it/s]"
     ]
    },
    {
     "name": "stdout",
     "output_type": "stream",
     "text": [
      "Hate severity: 0\n",
      "SelfHarm severity: 0\n",
      "Sexual severity: 0\n",
      "Violence severity: 0\n",
      "Analyzing video at 0:01:52\n"
     ]
    },
    {
     "name": "stderr",
     "output_type": "stream",
     "text": [
      "Processing video:  88%|████████▊ | 113/129 [01:04<00:09,  1.76it/s]"
     ]
    },
    {
     "name": "stdout",
     "output_type": "stream",
     "text": [
      "Hate severity: 0\n",
      "SelfHarm severity: 0\n",
      "Sexual severity: 0\n",
      "Violence severity: 0\n",
      "Analyzing video at 0:01:53\n"
     ]
    },
    {
     "name": "stderr",
     "output_type": "stream",
     "text": [
      "Processing video:  88%|████████▊ | 114/129 [01:05<00:08,  1.79it/s]"
     ]
    },
    {
     "name": "stdout",
     "output_type": "stream",
     "text": [
      "Hate severity: 0\n",
      "SelfHarm severity: 0\n",
      "Sexual severity: 0\n",
      "Violence severity: 0\n",
      "Analyzing video at 0:01:54\n"
     ]
    },
    {
     "name": "stderr",
     "output_type": "stream",
     "text": [
      "Processing video:  89%|████████▉ | 115/129 [01:05<00:07,  1.82it/s]"
     ]
    },
    {
     "name": "stdout",
     "output_type": "stream",
     "text": [
      "Hate severity: 0\n",
      "SelfHarm severity: 0\n",
      "Sexual severity: 0\n",
      "Violence severity: 0\n",
      "Analyzing video at 0:01:55\n"
     ]
    },
    {
     "name": "stderr",
     "output_type": "stream",
     "text": [
      "Processing video:  90%|████████▉ | 116/129 [01:06<00:06,  1.88it/s]"
     ]
    },
    {
     "name": "stdout",
     "output_type": "stream",
     "text": [
      "Hate severity: 0\n",
      "SelfHarm severity: 0\n",
      "Sexual severity: 0\n",
      "Violence severity: 0\n",
      "Analyzing video at 0:01:56\n"
     ]
    },
    {
     "name": "stderr",
     "output_type": "stream",
     "text": [
      "Processing video:  91%|█████████ | 117/129 [01:07<00:07,  1.68it/s]"
     ]
    },
    {
     "name": "stdout",
     "output_type": "stream",
     "text": [
      "Hate severity: 0\n",
      "SelfHarm severity: 0\n",
      "Sexual severity: 0\n",
      "Violence severity: 0\n",
      "Analyzing video at 0:01:57\n"
     ]
    },
    {
     "name": "stderr",
     "output_type": "stream",
     "text": [
      "Processing video:  91%|█████████▏| 118/129 [01:07<00:06,  1.59it/s]"
     ]
    },
    {
     "name": "stdout",
     "output_type": "stream",
     "text": [
      "Hate severity: 0\n",
      "SelfHarm severity: 0\n",
      "Sexual severity: 0\n",
      "Violence severity: 0\n",
      "Analyzing video at 0:01:58\n"
     ]
    },
    {
     "name": "stderr",
     "output_type": "stream",
     "text": [
      "Processing video:  92%|█████████▏| 119/129 [01:08<00:05,  1.70it/s]"
     ]
    },
    {
     "name": "stdout",
     "output_type": "stream",
     "text": [
      "Hate severity: 0\n",
      "SelfHarm severity: 0\n",
      "Sexual severity: 0\n",
      "Violence severity: 0\n",
      "Analyzing video at 0:01:59\n"
     ]
    },
    {
     "name": "stderr",
     "output_type": "stream",
     "text": [
      "Processing video:  93%|█████████▎| 120/129 [01:08<00:04,  1.82it/s]"
     ]
    },
    {
     "name": "stdout",
     "output_type": "stream",
     "text": [
      "Hate severity: 0\n",
      "SelfHarm severity: 0\n",
      "Sexual severity: 0\n",
      "Violence severity: 0\n",
      "Analyzing video at 0:02:00\n"
     ]
    },
    {
     "name": "stderr",
     "output_type": "stream",
     "text": [
      "Processing video:  94%|█████████▍| 121/129 [01:09<00:04,  1.70it/s]"
     ]
    },
    {
     "name": "stdout",
     "output_type": "stream",
     "text": [
      "Hate severity: 0\n",
      "SelfHarm severity: 0\n",
      "Sexual severity: 0\n",
      "Violence severity: 0\n",
      "Analyzing video at 0:02:01\n"
     ]
    },
    {
     "name": "stderr",
     "output_type": "stream",
     "text": [
      "Processing video:  95%|█████████▍| 122/129 [01:10<00:04,  1.58it/s]"
     ]
    },
    {
     "name": "stdout",
     "output_type": "stream",
     "text": [
      "Hate severity: 0\n",
      "SelfHarm severity: 0\n",
      "Sexual severity: 0\n",
      "Violence severity: 0\n",
      "Analyzing video at 0:02:02\n"
     ]
    },
    {
     "name": "stderr",
     "output_type": "stream",
     "text": [
      "Processing video:  95%|█████████▌| 123/129 [01:10<00:03,  1.68it/s]"
     ]
    },
    {
     "name": "stdout",
     "output_type": "stream",
     "text": [
      "Hate severity: 0\n",
      "SelfHarm severity: 0\n",
      "Sexual severity: 0\n",
      "Violence severity: 0\n",
      "Analyzing video at 0:02:03\n"
     ]
    },
    {
     "name": "stderr",
     "output_type": "stream",
     "text": [
      "Processing video:  96%|█████████▌| 124/129 [01:11<00:03,  1.64it/s]"
     ]
    },
    {
     "name": "stdout",
     "output_type": "stream",
     "text": [
      "Hate severity: 0\n",
      "SelfHarm severity: 0\n",
      "Sexual severity: 0\n",
      "Violence severity: 0\n",
      "Analyzing video at 0:02:04\n"
     ]
    },
    {
     "name": "stderr",
     "output_type": "stream",
     "text": [
      "Processing video:  97%|█████████▋| 125/129 [01:11<00:02,  1.76it/s]"
     ]
    },
    {
     "name": "stdout",
     "output_type": "stream",
     "text": [
      "Hate severity: 0\n",
      "SelfHarm severity: 0\n",
      "Sexual severity: 0\n",
      "Violence severity: 0\n",
      "Analyzing video at 0:02:05\n"
     ]
    },
    {
     "name": "stderr",
     "output_type": "stream",
     "text": [
      "Processing video:  98%|█████████▊| 126/129 [01:12<00:01,  1.56it/s]"
     ]
    },
    {
     "name": "stdout",
     "output_type": "stream",
     "text": [
      "Hate severity: 0\n",
      "SelfHarm severity: 0\n",
      "Sexual severity: 0\n",
      "Violence severity: 0\n",
      "Analyzing video at 0:02:06\n"
     ]
    },
    {
     "name": "stderr",
     "output_type": "stream",
     "text": [
      "Processing video:  98%|█████████▊| 127/129 [01:13<00:01,  1.60it/s]"
     ]
    },
    {
     "name": "stdout",
     "output_type": "stream",
     "text": [
      "Hate severity: 0\n",
      "SelfHarm severity: 0\n",
      "Sexual severity: 0\n",
      "Violence severity: 0\n",
      "Analyzing video at 0:02:07\n"
     ]
    },
    {
     "name": "stderr",
     "output_type": "stream",
     "text": [
      "Processing video:  99%|█████████▉| 128/129 [01:13<00:00,  1.73it/s]"
     ]
    },
    {
     "name": "stdout",
     "output_type": "stream",
     "text": [
      "Hate severity: 0\n",
      "SelfHarm severity: 0\n",
      "Sexual severity: 0\n",
      "Violence severity: 0\n",
      "Analyzing video at 0:02:08\n"
     ]
    },
    {
     "name": "stderr",
     "output_type": "stream",
     "text": [
      "Processing video: 100%|██████████| 129/129 [01:14<00:00,  1.74it/s]"
     ]
    },
    {
     "name": "stdout",
     "output_type": "stream",
     "text": [
      "Hate severity: 0\n",
      "SelfHarm severity: 0\n",
      "Sexual severity: 0\n",
      "Violence severity: 0\n"
     ]
    },
    {
     "name": "stderr",
     "output_type": "stream",
     "text": [
      "\n"
     ]
    }
   ],
   "source": [
    "# coding: utf-8\n",
    "\n",
    "# -------------------------------------------------------------------------\n",
    "# Copyright (c) Microsoft Corporation. All rights reserved.\n",
    "# Licensed under the MIT License. See License.txt in the project root for\n",
    "# license information.\n",
    "# --------------------------------------------------------------------------\n",
    "import os\n",
    "\n",
    "from azure.ai.contentsafety import ContentSafetyClient\n",
    "from azure.ai.contentsafety.models import AnalyzeImageOptions, ImageData, ImageCategory\n",
    "from azure.core.credentials import AzureKeyCredential\n",
    "from azure.core.exceptions import HttpResponseError\n",
    "\n",
    "import datetime\n",
    "from decord import VideoReader\n",
    "from io import BytesIO\n",
    "import numpy as np\n",
    "from tqdm import tqdm\n",
    "from PIL import Image\n",
    "\n",
    "\n",
    "# Sample: Analyze video in sync request\n",
    "def analyze_video():\n",
    "    # [START analyze_video]\n",
    "    key = os.environ[\"AZURE_CONTENT_SAFETY_KEY\"]\n",
    "    endpoint = os.environ[\"AZURE_CONTENT_SAFETY_ENDPOINT\"]\n",
    "    video_path = os.path.join(\"sample\", \"francevideo.mp4\")\n",
    "    # Create a Content Safety client\n",
    "    client = ContentSafetyClient(endpoint, AzureKeyCredential(key))\n",
    "\n",
    "    # Read the video\n",
    "    video = VideoReader(video_path)\n",
    "    sampling_fps = 1  # process at 1 frames per second\n",
    "    key_frames = video.get_batch(\n",
    "        np.int_(np.arange(0, len(video), video.get_avg_fps() / sampling_fps))).asnumpy()\n",
    "\n",
    "    # Iterate over key frames\n",
    "    for key_frame_idx in tqdm(range(len(key_frames)), desc=\"Processing video\",\n",
    "                              total=len(key_frames)):\n",
    "        frame = Image.fromarray(key_frames[key_frame_idx])\n",
    "        frame_bytes = BytesIO()\n",
    "        frame.save(frame_bytes, format=\"PNG\")\n",
    "\n",
    "        # Build request\n",
    "        request = AnalyzeImageOptions(image=ImageData(content=frame_bytes.getvalue()))\n",
    "\n",
    "        # Analyze image\n",
    "        frame_time_ms = key_frame_idx * 1000 / sampling_fps\n",
    "        frame_timestamp = datetime.timedelta(milliseconds=frame_time_ms)\n",
    "        print(f\"Analyzing video at {frame_timestamp}\")\n",
    "        try:\n",
    "            response = client.analyze_image(request)\n",
    "        except HttpResponseError as e:\n",
    "            print(f\"Analyze video failed at {frame_timestamp}\")\n",
    "            if e.error:\n",
    "                print(f\"Error code: {e.error.code}\")\n",
    "                print(f\"Error message: {e.error.message}\")\n",
    "                raise\n",
    "            print(e)\n",
    "            raise\n",
    "\n",
    "        hate_result = next(\n",
    "            item for item in response.categories_analysis if item.category == ImageCategory.HATE)\n",
    "        self_harm_result = next(item for item in response.categories_analysis if\n",
    "                                item.category == ImageCategory.SELF_HARM)\n",
    "        sexual_result = next(\n",
    "            item for item in response.categories_analysis if item.category == ImageCategory.SEXUAL)\n",
    "        violence_result = next(item for item in response.categories_analysis if\n",
    "                               item.category == ImageCategory.VIOLENCE)\n",
    "\n",
    "        if hate_result:\n",
    "            print(f\"Hate severity: {hate_result.severity}\")\n",
    "        if self_harm_result:\n",
    "            print(f\"SelfHarm severity: {self_harm_result.severity}\")\n",
    "        if sexual_result:\n",
    "            print(f\"Sexual severity: {sexual_result.severity}\")\n",
    "        if violence_result:\n",
    "            print(f\"Violence severity: {violence_result.severity}\")\n",
    "\n",
    "    # [END analyze_video]\n",
    "\n",
    "\n",
    "if __name__ == \"__main__\":\n",
    "    analyze_video()"
   ]
  }
 ],
 "metadata": {
  "kernelspec": {
   "display_name": "pytorch_env",
   "language": "python",
   "name": "python3"
  },
  "language_info": {
   "codemirror_mode": {
    "name": "ipython",
    "version": 3
   },
   "file_extension": ".py",
   "mimetype": "text/x-python",
   "name": "python",
   "nbconvert_exporter": "python",
   "pygments_lexer": "ipython3",
   "version": "3.11.9"
  }
 },
 "nbformat": 4,
 "nbformat_minor": 2
}
