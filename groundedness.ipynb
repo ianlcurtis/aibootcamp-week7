{
 "cells": [
  {
   "cell_type": "markdown",
   "metadata": {},
   "source": [
    "# Import Required Libraries\n",
    "Import the requests library to make HTTP requests."
   ]
  },
  {
   "cell_type": "code",
   "execution_count": 1,
   "metadata": {},
   "outputs": [],
   "source": [
    "import http.client\n",
    "import json"
   ]
  },
  {
   "cell_type": "markdown",
   "metadata": {},
   "source": [
    "# Making a POST Request to the groundedness api\n",
    "Replace your_subscription_key with your Content Safety Api key\n",
    "Replace endpoint with your Content Safety API endpoint"
   ]
  },
  {
   "cell_type": "code",
   "execution_count": 2,
   "metadata": {},
   "outputs": [
    {
     "name": "stdout",
     "output_type": "stream",
     "text": [
      "{\"ungroundedDetected\":true,\"ungroundedPercentage\":1,\"ungroundedDetails\":[{\"text\":\"12/hour\",\"offset\":{\"utf8\":0,\"utf16\":0,\"codePoint\":0},\"length\":{\"utf8\":7,\"utf16\":7,\"codePoint\":7}}]}\n"
     ]
    }
   ],
   "source": [
    "conn = http.client.HTTPSConnection(\"eastuscontentjo.cognitiveservices.azure.com\")\n",
    "payload = json.dumps({\n",
    "  \"domain\": \"Generic\",\n",
    "  \"task\": \"QnA\",\n",
    "  \"qna\": {\n",
    "    \"query\": \"How much does she currently get paid per hour at the bank?\"\n",
    "  },\n",
    "  \"text\": \"12/hour\",\n",
    "  \"groundingSources\": [\n",
    "    \"I'm 21 years old and I need to make a decision about the next two years of my life. Within a week. I currently work for a bank that requires strict sales goals to meet. IF they aren't met three times (three months) you're canned. They pay me 10/hour and it's not unheard of to get a raise in 6ish months. The issue is, **I'm not a salesperson**. That's not my personality. I'm amazing at customer service, I have the most positive customer service \\\"reports\\\" done about me in the short time I've worked here. A coworker asked \\\"do you ask for people to fill these out? you have a ton\\\". That being said, I have a job opportunity at Chase Bank as a part time teller. What makes this decision so hard is that at my current job, I get 40 hours and Chase could only offer me 20 hours/week. Drive time to my current job is also 21 miles **one way** while Chase is literally 1.8 miles from my house, allowing me to go home for lunch. I do have an apartment and an awesome roommate that I know wont be late on his portion of rent, so paying bills with 20hours a week isn't the issue. It's the spending money and being broke all the time.\\n\\nI previously worked at Wal-Mart and took home just about 400 dollars every other week. So I know i can survive on this income. I just don't know whether I should go for Chase as I could definitely see myself having a career there. I'm a math major likely going to become an actuary, so Chase could provide excellent opportunities for me **eventually**.\"\n",
    "  ],\n",
    "  \"reasoning\": False\n",
    "})\n",
    "headers = {\n",
    "  'Ocp-Apim-Subscription-Key': 'e26459dfe1df4715b172c23cc4a5543e',\n",
    "  'Content-Type': 'application/json'\n",
    "}\n",
    "conn.request(\"POST\", \"/contentsafety/text:detectGroundedness?api-version=2024-02-15-preview\", payload, headers)\n",
    "res = conn.getresponse()\n",
    "data = res.read()\n",
    "print(data.decode(\"utf-8\"))"
   ]
  },
  {
   "cell_type": "markdown",
   "metadata": {},
   "source": [
    "# Using a summarization instead of Q and A \n"
   ]
  },
  {
   "cell_type": "code",
   "execution_count": 3,
   "metadata": {},
   "outputs": [
    {
     "name": "stdout",
     "output_type": "stream",
     "text": [
      "{\"ungroundedDetected\":true,\"ungroundedPercentage\":1,\"ungroundedDetails\":[{\"text\":\"Ms Johnson has been in the hospital after experiencing a stroke.\",\"offset\":{\"utf8\":0,\"utf16\":0,\"codePoint\":0},\"length\":{\"utf8\":64,\"utf16\":64,\"codePoint\":64}}]}\n"
     ]
    }
   ],
   "source": [
    "conn = http.client.HTTPSConnection(\"eastuscontentjo.cognitiveservices.azure.com\")\n",
    "payload = json.dumps({\n",
    "  \"domain\": \"Medical\",\n",
    "  \"task\": \"Summarization\",\n",
    "  \"text\": \"Ms Johnson has been in the hospital after experiencing a stroke.\",\n",
    "  \"groundingSources\": [\n",
    "    \"Our patient, Ms. Johnson, presented with persistent fatigue, unexplained weight loss, and frequent night sweats. After a series of tests, she was diagnosed with Hodgkin’s lymphoma, a type of cancer that affects the lymphatic system. The diagnosis was confirmed through a lymph node biopsy revealing the presence of Reed-Sternberg cells, a characteristic of this disease. She was further staged using PET-CT scans. Her treatment plan includes chemotherapy and possibly radiation therapy, depending on her response to treatment. The medical team remains optimistic about her prognosis given the high cure rate of Hodgkin’s lymphoma.\"\n",
    "  ],\n",
    "  \"reasoning\": False\n",
    "})\n",
    "headers = {\n",
    "  'Ocp-Apim-Subscription-Key': 'e26459dfe1df4715b172c23cc4a5543e',\n",
    "  'Content-Type': 'application/json'\n",
    "}\n",
    "conn.request(\"POST\", \"/contentsafety/text:detectGroundedness?api-version=2024-02-15-preview\", payload, headers)\n",
    "res = conn.getresponse()\n",
    "data = res.read()\n",
    "print(data.decode(\"utf-8\"))"
   ]
  },
  {
   "cell_type": "markdown",
   "metadata": {},
   "source": [
    "# Groundedness with reasoning\n",
    "The Groundedness detection API provides the option to include reasoning in the API response. With reasoning enabled, the response includes a \"reasoning\" field that details specific instances and explanations for any detected ungroundedness.\n",
    "\n",
    "1.Enable Managed Identity for Azure AI Content Safety.\n",
    "\n",
    "Navigate to your Azure AI Content Safety instance in the Azure portal. Find the Identity section under the Resource Management category. Enable the system-assigned managed identity. This action grants your Azure AI Content Safety instance an identity that can be recognized and used within Azure for accessing other resources.\n",
    "\n",
    "2.Assign role to Managed Identity.\n",
    "\n",
    "Navigate to your Azure OpenAI instance, go to Access Control (IAM),  select Add role assignment to start the process of assigning an Azure OpenAI role to the Azure AI Content Safety identity. Choose Cognitive Services OpenAI User\n",
    "\n",
    "Choose the User or Contributor role.\n",
    "\n",
    "Hit next and when you get to Select Members (to assign the role to) select Managed Identity, hit the Plus button and then in the dialogue box choose the Managed Identity you created for Content Safety in step 1. \n",
    "\n",
    "Hit Review and Assign. \n",
    "\n",
    "\n",
    "\n",
    "\n",
    "\n"
   ]
  },
  {
   "cell_type": "markdown",
   "metadata": {},
   "source": [
    "\n",
    "# Make the API request\n",
    "In your request to the Groundedness detection API, set the \"reasoning\" body parameter to true, and provide the other needed parameters"
   ]
  },
  {
   "cell_type": "code",
   "execution_count": 7,
   "metadata": {},
   "outputs": [
    {
     "ename": "SyntaxError",
     "evalue": "invalid syntax (472999058.py, line 16)",
     "output_type": "error",
     "traceback": [
      "\u001b[1;36m  Cell \u001b[1;32mIn[7], line 16\u001b[1;36m\u001b[0m\n\u001b[1;33m    \"llmResource\": {\u001b[0m\n\u001b[1;37m    ^\u001b[0m\n\u001b[1;31mSyntaxError\u001b[0m\u001b[1;31m:\u001b[0m invalid syntax\n"
     ]
    }
   ],
   "source": [
    "import http.client\n",
    "import json\n",
    "import requests\n",
    "\n",
    "\n",
    "\n",
    "conn = http.client.HTTPSConnection(\"https://externalcontentsafety.cognitiveservices.azure.com/\")\n",
    "payload = json.dumps({\n",
    "  \"domain\": \"Generic\",\n",
    "  \"task\": \"QnA\",\n",
    "  \"qna\": {\n",
    "    \"query\": \"How much does she currently get paid per hour at the bank?\"\n",
    "  },\n",
    "  \"text\": \"12/hour\",\n",
    "  \"groundingSources\": [\n",
    "    \"I'm 21 years old and I need to make a decision about the next two years of my life. Within a week. I currently work for a bank that requires strict sales goals to meet. IF they aren't met three times (three months) you're canned. They pay me 10/hour and it's not unheard of to get a raise in 6ish months. The issue is, **I'm not a salesperson**. That's not my personality. I'm amazing at customer service, I have the most positive customer service \\\"reports\\\" done about me in the short time I've worked here. A coworker asked \\\"do you ask for people to fill these out? you have a ton\\\". That being said, I have a job opportunity at Chase Bank as a part time teller. What makes this decision so hard is that at my current job, I get 40 hours and Chase could only offer me 20 hours/week. Drive time to my current job is also 21 miles **one way** while Chase is literally 1.8 miles from my house, allowing me to go home for lunch. I do have an apartment and an awesome roommate that I know wont be late on his portion of rent, so paying bills with 20hours a week isn't the issue. It's the spending money and being broke all the time.\\n\\nI previously worked at Wal-Mart and took home just about 400 dollars every other week. So I know i can survive on this income. I just don't know whether I should go for Chase as I could definitely see myself having a career there. I'm a math major likely going to become an actuary, so Chase could provide excellent opportunities for me **eventually**.\"\n",
    "  ],\n",
    "  \"reasoning\": true\n",
    "  \"llmResource\": {\n",
    "   \"resourceType\": \"AzureOpenAI\",\n",
    "   \"azureOpenAIEndpoint\": \"https://bootcampsweden.openai.azure.com/\",\n",
    "   \"azureOpenAIDeploymentName\": \"gpt-4o\"\n",
    "  }\n",
    "})\n",
    "headers = {\n",
    "  'Ocp-Apim-Subscription-Key': '7425dc6a32714af7a6eaa322a66a5b97',\n",
    "  'Content-Type': 'application/json'\n",
    "}\n",
    "conn.request(\"POST\", \"/contentsafety/text:detectGroundedness?api-version=2024-02-15-preview\", payload, headers)\n",
    "res = conn.getresponse()\n",
    "data = res.read()\n",
    "print(data.decode(\"utf-8\"))"
   ]
  },
  {
   "cell_type": "markdown",
   "metadata": {},
   "source": [
    "# Working with JSON Payloads\n",
    "Show how to send JSON payloads with POST requests using the json parameter."
   ]
  },
  {
   "cell_type": "code",
   "execution_count": null,
   "metadata": {},
   "outputs": [],
   "source": [
    "# Working with JSON Payloads\n",
    "json_payload = {\n",
    "    'name': 'John Doe',\n",
    "    'email': 'john.doe@example.com'\n",
    "}\n",
    "\n",
    "# Send a POST request with JSON payload\n",
    "response_with_json = requests.post(url, json=json_payload)\n",
    "\n",
    "# Display the status code of the response\n",
    "print(\"Status Code with JSON Payload:\", response_with_json.status_code)\n",
    "\n",
    "# Display the content of the response\n",
    "print(\"Response Content with JSON Payload:\", response_with_json.text)"
   ]
  },
  {
   "cell_type": "markdown",
   "metadata": {},
   "source": [
    "# Handling Response\n",
    "Explain how to handle the response from the server, including checking the status code and parsing the response content."
   ]
  },
  {
   "cell_type": "code",
   "execution_count": null,
   "metadata": {},
   "outputs": [],
   "source": [
    "# Check if the response was successful\n",
    "if response.status_code == 200:\n",
    "    print(\"The request was successful.\")\n",
    "else:\n",
    "    print(\"The request failed with status code:\", response.status_code)\n",
    "\n",
    "# Parse JSON content from the response\n",
    "try:\n",
    "    response_json = response.json()\n",
    "    print(\"JSON content:\", response_json)\n",
    "except ValueError:\n",
    "    print(\"The response does not contain valid JSON content.\")\n",
    "\n",
    "# Handling redirections\n",
    "if response.history:\n",
    "    print(\"Request was redirected.\")\n",
    "    for redirect in response.history:\n",
    "        print(\"Redirected from:\", redirect.url)\n",
    "    print(\"Final destination:\", response.url)\n",
    "else:\n",
    "    print(\"Request was not redirected.\")"
   ]
  }
 ],
 "metadata": {
  "kernelspec": {
   "display_name": "pytorch_env",
   "language": "python",
   "name": "python3"
  },
  "language_info": {
   "codemirror_mode": {
    "name": "ipython",
    "version": 3
   },
   "file_extension": ".py",
   "mimetype": "text/x-python",
   "name": "python",
   "nbconvert_exporter": "python",
   "pygments_lexer": "ipython3",
   "version": "3.11.9"
  }
 },
 "nbformat": 4,
 "nbformat_minor": 2
}
